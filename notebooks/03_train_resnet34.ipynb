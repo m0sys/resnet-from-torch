{
 "cells": [
  {
   "cell_type": "markdown",
   "metadata": {},
   "source": [
    "## Train ResNet34 model"
   ]
  },
  {
   "cell_type": "code",
   "execution_count": 1,
   "metadata": {},
   "outputs": [],
   "source": [
    "from importlib.util import find_spec\n",
    "if find_spec(\"model\") is None:\n",
    "    import sys\n",
    "    sys.path.append('..')"
   ]
  },
  {
   "cell_type": "code",
   "execution_count": 2,
   "metadata": {},
   "outputs": [],
   "source": [
    "from model.model import Resnet34\n",
    "from data_loader.data_loaders import Cifar100DataLoader"
   ]
  },
  {
   "cell_type": "code",
   "execution_count": 3,
   "metadata": {},
   "outputs": [
    {
     "name": "stdout",
     "output_type": "stream",
     "text": [
      "Files already downloaded and verified\n"
     ]
    }
   ],
   "source": [
    "dl = Cifar100DataLoader('../data', 32)"
   ]
  },
  {
   "cell_type": "code",
   "execution_count": 4,
   "metadata": {},
   "outputs": [
    {
     "data": {
      "text/plain": [
       "(torch.Size([32, 3, 224, 224]),\n",
       " tensor([21, 87, 89, 98, 92, 98, 24, 82, 66, 49, 45, 82, 93, 14, 70, 69,  5, 38,\n",
       "         21, 83, 90, 74,  8,  4, 65, 32, 22, 31,  4, 86, 75, 57]))"
      ]
     },
     "execution_count": 4,
     "metadata": {},
     "output_type": "execute_result"
    }
   ],
   "source": [
    "data, target = next(iter(dl))\n",
    "data.shape, target"
   ]
  },
  {
   "cell_type": "code",
   "execution_count": 5,
   "metadata": {},
   "outputs": [],
   "source": [
    "model = Resnet34()"
   ]
  },
  {
   "cell_type": "code",
   "execution_count": 6,
   "metadata": {},
   "outputs": [
    {
     "name": "stdout",
     "output_type": "stream",
     "text": [
      "torch.Size([32, 3, 224, 224])\n",
      "torch.Size([32, 64, 112, 112])\n",
      "shape of x before g_avg_pooling: torch.Size([32, 512, 7, 7])\n",
      "shape of x after g_avg_pooling: torch.Size([32, 512, 1, 1])\n",
      "shape of x after squeeze: torch.Size([32, 512])\n"
     ]
    },
    {
     "data": {
      "text/plain": [
       "tensor([[ 0.0352, -0.2985,  0.1768,  ..., -0.1222,  0.1962, -0.3864],\n",
       "        [-0.0241, -0.0800,  0.1294,  ..., -0.1697,  0.1536, -0.3195],\n",
       "        [ 0.0155, -0.2548,  0.1520,  ..., -0.0833,  0.1382, -0.3929],\n",
       "        ...,\n",
       "        [ 0.0660, -0.4507,  0.1819,  ..., -0.0427,  0.1938, -0.4015],\n",
       "        [ 0.0060, -0.2158,  0.1427,  ..., -0.1645,  0.2048, -0.3946],\n",
       "        [ 0.0746, -0.3616,  0.1441,  ..., -0.0114,  0.1195, -0.2654]],\n",
       "       grad_fn=<AddmmBackward>)"
      ]
     },
     "execution_count": 6,
     "metadata": {},
     "output_type": "execute_result"
    }
   ],
   "source": [
    "model(data)"
   ]
  },
  {
   "cell_type": "code",
   "execution_count": null,
   "metadata": {},
   "outputs": [],
   "source": []
  },
  {
   "cell_type": "code",
   "execution_count": null,
   "metadata": {},
   "outputs": [],
   "source": []
  }
 ],
 "metadata": {
  "kernelspec": {
   "display_name": "Python 3",
   "language": "python",
   "name": "python3"
  },
  "language_info": {
   "codemirror_mode": {
    "name": "ipython",
    "version": 3
   },
   "file_extension": ".py",
   "mimetype": "text/x-python",
   "name": "python",
   "nbconvert_exporter": "python",
   "pygments_lexer": "ipython3",
   "version": "3.8.6"
  }
 },
 "nbformat": 4,
 "nbformat_minor": 4
}
