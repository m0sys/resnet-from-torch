{
 "cells": [
  {
   "cell_type": "markdown",
   "metadata": {},
   "source": [
    "## Train ResNet34 model"
   ]
  },
  {
   "cell_type": "code",
   "execution_count": 1,
   "metadata": {},
   "outputs": [],
   "source": [
    "from importlib.util import find_spec\n",
    "if find_spec(\"model\") is None:\n",
    "    import sys\n",
    "    sys.path.append('..')"
   ]
  },
  {
   "cell_type": "code",
   "execution_count": 2,
   "metadata": {},
   "outputs": [],
   "source": [
    "import torch.nn.functional as F\n",
    "import torch"
   ]
  },
  {
   "cell_type": "code",
   "execution_count": 3,
   "metadata": {},
   "outputs": [],
   "source": [
    "from model.model import Resnet34\n",
    "from data_loader.data_loaders import Cifar100DataLoader"
   ]
  },
  {
   "cell_type": "code",
   "execution_count": 4,
   "metadata": {},
   "outputs": [
    {
     "data": {
      "text/plain": [
       "True"
      ]
     },
     "execution_count": 4,
     "metadata": {},
     "output_type": "execute_result"
    }
   ],
   "source": [
    "torch.cuda.is_available()"
   ]
  },
  {
   "cell_type": "code",
   "execution_count": 5,
   "metadata": {},
   "outputs": [],
   "source": [
    "device = torch.device('cuda:0' if torch.cuda.is_available() else 'cpu')"
   ]
  },
  {
   "cell_type": "code",
   "execution_count": 6,
   "metadata": {},
   "outputs": [
    {
     "name": "stdout",
     "output_type": "stream",
     "text": [
      "Files already downloaded and verified\n"
     ]
    }
   ],
   "source": [
    "dl = Cifar100DataLoader('../data', 32)"
   ]
  },
  {
   "cell_type": "code",
   "execution_count": 7,
   "metadata": {},
   "outputs": [
    {
     "data": {
      "text/plain": [
       "(torch.Size([32, 3, 224, 224]),\n",
       " tensor([21, 88, 83, 57,  7, 34, 32, 64, 88, 81, 35, 47, 67, 19, 92, 34,  3, 74,\n",
       "         86, 15,  7, 92, 46, 69, 57, 33, 94, 56, 72, 96, 52, 86]))"
      ]
     },
     "execution_count": 7,
     "metadata": {},
     "output_type": "execute_result"
    }
   ],
   "source": [
    "data, target = next(iter(dl))\n",
    "data.shape, target"
   ]
  },
  {
   "cell_type": "code",
   "execution_count": 8,
   "metadata": {},
   "outputs": [
    {
     "data": {
      "text/plain": [
       "Resnet34(\n",
       "  (conv1): Conv2d(3, 64, kernel_size=(7, 7), stride=(2, 2), padding=(3, 3))\n",
       "  (pool1): MaxPool2d(kernel_size=2, stride=2, padding=0, dilation=1, ceil_mode=False)\n",
       "  (res_block1): Sequential(\n",
       "    (0): Conv2d(64, 64, kernel_size=(3, 3), stride=(1, 1), padding=(1, 1))\n",
       "    (1): ReLU(inplace=True)\n",
       "    (2): Conv2d(64, 64, kernel_size=(3, 3), stride=(1, 1), padding=(1, 1))\n",
       "  )\n",
       "  (res_block2): Sequential(\n",
       "    (0): Conv2d(64, 64, kernel_size=(3, 3), stride=(1, 1), padding=(1, 1))\n",
       "    (1): ReLU(inplace=True)\n",
       "    (2): Conv2d(64, 64, kernel_size=(3, 3), stride=(1, 1), padding=(1, 1))\n",
       "  )\n",
       "  (res_block3): Sequential(\n",
       "    (0): Conv2d(64, 64, kernel_size=(3, 3), stride=(1, 1), padding=(1, 1))\n",
       "    (1): ReLU(inplace=True)\n",
       "    (2): Conv2d(64, 64, kernel_size=(3, 3), stride=(1, 1), padding=(1, 1))\n",
       "  )\n",
       "  (res_block4): Sequential(\n",
       "    (0): Conv2d(64, 128, kernel_size=(3, 3), stride=(2, 2), padding=(1, 1))\n",
       "    (1): ReLU(inplace=True)\n",
       "    (2): Conv2d(128, 128, kernel_size=(3, 3), stride=(1, 1), padding=(1, 1))\n",
       "  )\n",
       "  (res_block5): Sequential(\n",
       "    (0): Conv2d(128, 128, kernel_size=(3, 3), stride=(1, 1), padding=(1, 1))\n",
       "    (1): ReLU(inplace=True)\n",
       "    (2): Conv2d(128, 128, kernel_size=(3, 3), stride=(1, 1), padding=(1, 1))\n",
       "  )\n",
       "  (res_block6): Sequential(\n",
       "    (0): Conv2d(128, 128, kernel_size=(3, 3), stride=(1, 1), padding=(1, 1))\n",
       "    (1): ReLU(inplace=True)\n",
       "    (2): Conv2d(128, 128, kernel_size=(3, 3), stride=(1, 1), padding=(1, 1))\n",
       "  )\n",
       "  (res_block7): Sequential(\n",
       "    (0): Conv2d(128, 128, kernel_size=(3, 3), stride=(1, 1), padding=(1, 1))\n",
       "    (1): ReLU(inplace=True)\n",
       "    (2): Conv2d(128, 128, kernel_size=(3, 3), stride=(1, 1), padding=(1, 1))\n",
       "  )\n",
       "  (res_block8): Sequential(\n",
       "    (0): Conv2d(128, 256, kernel_size=(3, 3), stride=(2, 2), padding=(1, 1))\n",
       "    (1): ReLU(inplace=True)\n",
       "    (2): Conv2d(256, 256, kernel_size=(3, 3), stride=(1, 1), padding=(1, 1))\n",
       "  )\n",
       "  (res_block9): Sequential(\n",
       "    (0): Conv2d(256, 256, kernel_size=(3, 3), stride=(1, 1), padding=(1, 1))\n",
       "    (1): ReLU(inplace=True)\n",
       "    (2): Conv2d(256, 256, kernel_size=(3, 3), stride=(1, 1), padding=(1, 1))\n",
       "  )\n",
       "  (res_block10): Sequential(\n",
       "    (0): Conv2d(256, 256, kernel_size=(3, 3), stride=(1, 1), padding=(1, 1))\n",
       "    (1): ReLU(inplace=True)\n",
       "    (2): Conv2d(256, 256, kernel_size=(3, 3), stride=(1, 1), padding=(1, 1))\n",
       "  )\n",
       "  (res_block11): Sequential(\n",
       "    (0): Conv2d(256, 256, kernel_size=(3, 3), stride=(1, 1), padding=(1, 1))\n",
       "    (1): ReLU(inplace=True)\n",
       "    (2): Conv2d(256, 256, kernel_size=(3, 3), stride=(1, 1), padding=(1, 1))\n",
       "  )\n",
       "  (res_block12): Sequential(\n",
       "    (0): Conv2d(256, 256, kernel_size=(3, 3), stride=(1, 1), padding=(1, 1))\n",
       "    (1): ReLU(inplace=True)\n",
       "    (2): Conv2d(256, 256, kernel_size=(3, 3), stride=(1, 1), padding=(1, 1))\n",
       "  )\n",
       "  (res_block13): Sequential(\n",
       "    (0): Conv2d(256, 256, kernel_size=(3, 3), stride=(1, 1), padding=(1, 1))\n",
       "    (1): ReLU(inplace=True)\n",
       "    (2): Conv2d(256, 256, kernel_size=(3, 3), stride=(1, 1), padding=(1, 1))\n",
       "  )\n",
       "  (res_block14): Sequential(\n",
       "    (0): Conv2d(256, 512, kernel_size=(3, 3), stride=(2, 2), padding=(1, 1))\n",
       "    (1): ReLU(inplace=True)\n",
       "    (2): Conv2d(512, 512, kernel_size=(3, 3), stride=(1, 1), padding=(1, 1))\n",
       "  )\n",
       "  (res_block15): Sequential(\n",
       "    (0): Conv2d(512, 512, kernel_size=(3, 3), stride=(1, 1), padding=(1, 1))\n",
       "    (1): ReLU(inplace=True)\n",
       "    (2): Conv2d(512, 512, kernel_size=(3, 3), stride=(1, 1), padding=(1, 1))\n",
       "  )\n",
       "  (res_block16): Sequential(\n",
       "    (0): Conv2d(512, 512, kernel_size=(3, 3), stride=(1, 1), padding=(1, 1))\n",
       "    (1): ReLU(inplace=True)\n",
       "    (2): Conv2d(512, 512, kernel_size=(3, 3), stride=(1, 1), padding=(1, 1))\n",
       "  )\n",
       "  (global_avg_pooling): AvgPool2d(kernel_size=7, stride=7, padding=0)\n",
       "  (fc): Linear(in_features=512, out_features=100, bias=True)\n",
       ")"
      ]
     },
     "execution_count": 8,
     "metadata": {},
     "output_type": "execute_result"
    }
   ],
   "source": [
    "model = Resnet34()\n",
    "model.to(device)"
   ]
  },
  {
   "cell_type": "code",
   "execution_count": 9,
   "metadata": {},
   "outputs": [
    {
     "data": {
      "text/plain": [
       "tensor([[ 0.0165,  0.3172,  0.0550,  ..., -0.0256, -0.2807,  0.1660],\n",
       "        [ 0.0516,  0.6298,  0.1419,  ..., -0.1033, -0.5431,  0.3836],\n",
       "        [-0.0096,  0.5368,  0.1708,  ..., -0.1154, -0.5084,  0.4780],\n",
       "        ...,\n",
       "        [-0.0083,  0.3715,  0.1078,  ..., -0.0188, -0.3420,  0.2538],\n",
       "        [-0.0057,  0.4617,  0.0986,  ..., -0.0284, -0.4133,  0.3126],\n",
       "        [ 0.0614,  0.5981,  0.0983,  ..., -0.0798, -0.4713,  0.3259]],\n",
       "       device='cuda:0', grad_fn=<AddmmBackward>)"
      ]
     },
     "execution_count": 9,
     "metadata": {},
     "output_type": "execute_result"
    }
   ],
   "source": [
    "model(data.to(device))"
   ]
  },
  {
   "cell_type": "markdown",
   "metadata": {},
   "source": [
    "### Define Loss function and optimizer"
   ]
  },
  {
   "cell_type": "code",
   "execution_count": 10,
   "metadata": {},
   "outputs": [],
   "source": [
    "trainable_params = filter(lambda p: p.requires_grad, model.parameters())\n",
    "criterion = F.cross_entropy\n",
    "optimizer = torch.optim.SGD(trainable_params, lr=0.01, momentum=0.9)"
   ]
  },
  {
   "cell_type": "code",
   "execution_count": 11,
   "metadata": {},
   "outputs": [
    {
     "name": "stdout",
     "output_type": "stream",
     "text": [
      "[1,     1] loss: 0.023\n",
      "[1,   200] loss: 4.432\n",
      "[1,   399] loss: 4.165\n",
      "[1,   598] loss: 4.023\n",
      "[1,   797] loss: 3.880\n",
      "[1,   996] loss: 3.758\n",
      "[1,  1195] loss: 3.673\n",
      "[1,  1394] loss: 3.579\n",
      "[2,     1] loss: 0.019\n",
      "[2,   200] loss: 3.420\n",
      "[2,   399] loss: 3.312\n",
      "[2,   598] loss: 3.215\n",
      "[2,   797] loss: 3.141\n",
      "[2,   996] loss: 3.036\n",
      "[2,  1195] loss: 2.938\n",
      "[2,  1394] loss: 2.859\n",
      "[3,     1] loss: 0.013\n",
      "[3,   200] loss: 2.666\n",
      "[3,   399] loss: 2.616\n",
      "[3,   598] loss: 2.528\n",
      "[3,   797] loss: 2.465\n",
      "[3,   996] loss: 2.403\n",
      "[3,  1195] loss: 2.304\n",
      "[3,  1394] loss: 2.261\n",
      "[4,     1] loss: 0.010\n",
      "[4,   200] loss: 2.091\n",
      "[4,   399] loss: 2.076\n",
      "[4,   598] loss: 2.018\n",
      "[4,   797] loss: 1.977\n",
      "[4,   996] loss: 1.956\n",
      "[4,  1195] loss: 1.931\n",
      "[4,  1394] loss: 1.899\n",
      "[5,     1] loss: 0.009\n",
      "[5,   200] loss: 1.693\n",
      "[5,   399] loss: 1.734\n",
      "[5,   598] loss: 1.673\n",
      "[5,   797] loss: 1.676\n",
      "[5,   996] loss: 1.689\n",
      "[5,  1195] loss: 1.646\n",
      "[5,  1394] loss: 1.613\n",
      "[6,     1] loss: 0.009\n",
      "[6,   200] loss: 1.423\n",
      "[6,   399] loss: 1.441\n",
      "[6,   598] loss: 1.455\n",
      "[6,   797] loss: 1.439\n",
      "[6,   996] loss: 1.433\n",
      "[6,  1195] loss: 1.404\n",
      "[6,  1394] loss: 1.427\n",
      "[7,     1] loss: 0.006\n",
      "[7,   200] loss: 1.251\n",
      "[7,   399] loss: 1.213\n",
      "[7,   598] loss: 1.223\n",
      "[7,   797] loss: 1.231\n",
      "[7,   996] loss: 1.256\n",
      "[7,  1195] loss: 1.263\n",
      "[7,  1394] loss: 1.260\n",
      "[8,     1] loss: 0.007\n",
      "[8,   200] loss: 1.036\n",
      "[8,   399] loss: 1.056\n",
      "[8,   598] loss: 1.077\n",
      "[8,   797] loss: 1.075\n",
      "[8,   996] loss: 1.062\n",
      "[8,  1195] loss: 1.091\n",
      "[8,  1394] loss: 1.112\n",
      "[9,     1] loss: 0.003\n",
      "[9,   200] loss: 0.910\n",
      "[9,   399] loss: 0.895\n",
      "[9,   598] loss: 0.940\n",
      "[9,   797] loss: 0.899\n",
      "[9,   996] loss: 0.960\n",
      "[9,  1195] loss: 0.955\n",
      "[9,  1394] loss: 0.945\n",
      "[10,     1] loss: 0.004\n",
      "[10,   200] loss: 0.770\n",
      "[10,   399] loss: 0.792\n",
      "[10,   598] loss: 0.802\n",
      "[10,   797] loss: 0.822\n",
      "[10,   996] loss: 0.817\n",
      "[10,  1195] loss: 0.831\n",
      "[10,  1394] loss: 0.837\n"
     ]
    }
   ],
   "source": [
    "for epoch in range(10):\n",
    "    running_loss = 0.0\n",
    "    for batch_idx, (data, target) in enumerate(dl):\n",
    "        data, target = data.to(device), target.to(device)\n",
    "        optimizer.zero_grad()\n",
    "        output = model(data)\n",
    "        loss = criterion(output, target)\n",
    "        loss.backward()\n",
    "        \n",
    "        optimizer.step()\n",
    "        running_loss+= loss.item()\n",
    "        \n",
    "        if batch_idx % 199 == 0: # print every 2000 mini_batches\n",
    "            print('[%d, %5d] loss: %.3f' %\n",
    "                  (epoch + 1, batch_idx + 1, running_loss / 200))\n",
    "            running_loss = 0.0\n",
    "        "
   ]
  },
  {
   "cell_type": "code",
   "execution_count": null,
   "metadata": {},
   "outputs": [],
   "source": []
  }
 ],
 "metadata": {
  "kernelspec": {
   "display_name": "Python 3",
   "language": "python",
   "name": "python3"
  },
  "language_info": {
   "codemirror_mode": {
    "name": "ipython",
    "version": 3
   },
   "file_extension": ".py",
   "mimetype": "text/x-python",
   "name": "python",
   "nbconvert_exporter": "python",
   "pygments_lexer": "ipython3",
   "version": "3.8.6"
  }
 },
 "nbformat": 4,
 "nbformat_minor": 4
}
